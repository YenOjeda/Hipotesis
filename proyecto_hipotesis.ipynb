{
  "nbformat": 4,
  "nbformat_minor": 0,
  "metadata": {
    "colab": {
      "provenance": [],
      "authorship_tag": "ABX9TyPRO2w6fHdsdIEWYxFLE4ww",
      "include_colab_link": true
    },
    "kernelspec": {
      "name": "python3",
      "display_name": "Python 3"
    },
    "language_info": {
      "name": "python"
    }
  },
  "cells": [
    {
      "cell_type": "markdown",
      "metadata": {
        "id": "view-in-github",
        "colab_type": "text"
      },
      "source": [
        "<a href=\"https://colab.research.google.com/github/YenOjeda/Hipotesis/blob/main/proyecto_hipotesis.ipynb\" target=\"_parent\"><img src=\"https://colab.research.google.com/assets/colab-badge.svg\" alt=\"Open In Colab\"/></a>"
      ]
    },
    {
      "cell_type": "code",
      "source": [
        "!pip install google-cloud-bigquery\n",
        "!pip install pandas\n",
        "from google.cloud import bigquery\n",
        "from google.colab import auth\n",
        "auth.authenticate_user()\n",
        "# Especifica el ID del proyecto\n",
        "project_id = 'proyecto-hipotesis-403701'\n",
        "client = bigquery.Client(project=project_id)\n",
        "# Especifica la consulta SQL para obtener los datos\n",
        "query = 'SELECT * FROM `proyecto-hipotesis-403701.track_in_competition.tabla_general`'\n",
        "# Ejecuta la consulta y almacena los resultados en un DataFrame de Pandas\n",
        "df = client.query(query).to_dataframe()\n",
        "# Imprime el DataFrame\n",
        "print(df.head())"
      ],
      "metadata": {
        "colab": {
          "base_uri": "https://localhost:8080/"
        },
        "id": "TCIbBS7DJtS8",
        "outputId": "dc7be8cb-ae71-43a4-ee35-9ae0b1f0c97c"
      },
      "execution_count": null,
      "outputs": [
        {
          "output_type": "stream",
          "name": "stdout",
          "text": [
            "Requirement already satisfied: google-cloud-bigquery in /usr/local/lib/python3.10/dist-packages (3.12.0)\n",
            "Requirement already satisfied: grpcio<2.0dev,>=1.47.0 in /usr/local/lib/python3.10/dist-packages (from google-cloud-bigquery) (1.59.2)\n",
            "Requirement already satisfied: google-api-core[grpc]!=2.0.*,!=2.1.*,!=2.2.*,!=2.3.0,<3.0.0dev,>=1.31.5 in /usr/local/lib/python3.10/dist-packages (from google-cloud-bigquery) (2.11.1)\n",
            "Requirement already satisfied: proto-plus<2.0.0dev,>=1.15.0 in /usr/local/lib/python3.10/dist-packages (from google-cloud-bigquery) (1.22.3)\n",
            "Requirement already satisfied: google-cloud-core<3.0.0dev,>=1.6.0 in /usr/local/lib/python3.10/dist-packages (from google-cloud-bigquery) (2.3.3)\n",
            "Requirement already satisfied: google-resumable-media<3.0dev,>=0.6.0 in /usr/local/lib/python3.10/dist-packages (from google-cloud-bigquery) (2.6.0)\n",
            "Requirement already satisfied: packaging>=20.0.0 in /usr/local/lib/python3.10/dist-packages (from google-cloud-bigquery) (23.2)\n",
            "Requirement already satisfied: protobuf!=3.20.0,!=3.20.1,!=4.21.0,!=4.21.1,!=4.21.2,!=4.21.3,!=4.21.4,!=4.21.5,<5.0.0dev,>=3.19.5 in /usr/local/lib/python3.10/dist-packages (from google-cloud-bigquery) (3.20.3)\n",
            "Requirement already satisfied: python-dateutil<3.0dev,>=2.7.2 in /usr/local/lib/python3.10/dist-packages (from google-cloud-bigquery) (2.8.2)\n",
            "Requirement already satisfied: requests<3.0.0dev,>=2.21.0 in /usr/local/lib/python3.10/dist-packages (from google-cloud-bigquery) (2.31.0)\n",
            "Requirement already satisfied: googleapis-common-protos<2.0.dev0,>=1.56.2 in /usr/local/lib/python3.10/dist-packages (from google-api-core[grpc]!=2.0.*,!=2.1.*,!=2.2.*,!=2.3.0,<3.0.0dev,>=1.31.5->google-cloud-bigquery) (1.61.0)\n",
            "Requirement already satisfied: google-auth<3.0.dev0,>=2.14.1 in /usr/local/lib/python3.10/dist-packages (from google-api-core[grpc]!=2.0.*,!=2.1.*,!=2.2.*,!=2.3.0,<3.0.0dev,>=1.31.5->google-cloud-bigquery) (2.17.3)\n",
            "Requirement already satisfied: grpcio-status<2.0.dev0,>=1.33.2 in /usr/local/lib/python3.10/dist-packages (from google-api-core[grpc]!=2.0.*,!=2.1.*,!=2.2.*,!=2.3.0,<3.0.0dev,>=1.31.5->google-cloud-bigquery) (1.48.2)\n",
            "Requirement already satisfied: google-crc32c<2.0dev,>=1.0 in /usr/local/lib/python3.10/dist-packages (from google-resumable-media<3.0dev,>=0.6.0->google-cloud-bigquery) (1.5.0)\n",
            "Requirement already satisfied: six>=1.5 in /usr/local/lib/python3.10/dist-packages (from python-dateutil<3.0dev,>=2.7.2->google-cloud-bigquery) (1.16.0)\n",
            "Requirement already satisfied: charset-normalizer<4,>=2 in /usr/local/lib/python3.10/dist-packages (from requests<3.0.0dev,>=2.21.0->google-cloud-bigquery) (3.3.2)\n",
            "Requirement already satisfied: idna<4,>=2.5 in /usr/local/lib/python3.10/dist-packages (from requests<3.0.0dev,>=2.21.0->google-cloud-bigquery) (3.4)\n",
            "Requirement already satisfied: urllib3<3,>=1.21.1 in /usr/local/lib/python3.10/dist-packages (from requests<3.0.0dev,>=2.21.0->google-cloud-bigquery) (2.0.7)\n",
            "Requirement already satisfied: certifi>=2017.4.17 in /usr/local/lib/python3.10/dist-packages (from requests<3.0.0dev,>=2.21.0->google-cloud-bigquery) (2023.7.22)\n",
            "Requirement already satisfied: cachetools<6.0,>=2.0.0 in /usr/local/lib/python3.10/dist-packages (from google-auth<3.0.dev0,>=2.14.1->google-api-core[grpc]!=2.0.*,!=2.1.*,!=2.2.*,!=2.3.0,<3.0.0dev,>=1.31.5->google-cloud-bigquery) (5.3.2)\n",
            "Requirement already satisfied: pyasn1-modules>=0.2.1 in /usr/local/lib/python3.10/dist-packages (from google-auth<3.0.dev0,>=2.14.1->google-api-core[grpc]!=2.0.*,!=2.1.*,!=2.2.*,!=2.3.0,<3.0.0dev,>=1.31.5->google-cloud-bigquery) (0.3.0)\n",
            "Requirement already satisfied: rsa<5,>=3.1.4 in /usr/local/lib/python3.10/dist-packages (from google-auth<3.0.dev0,>=2.14.1->google-api-core[grpc]!=2.0.*,!=2.1.*,!=2.2.*,!=2.3.0,<3.0.0dev,>=1.31.5->google-cloud-bigquery) (4.9)\n",
            "Requirement already satisfied: pyasn1<0.6.0,>=0.4.6 in /usr/local/lib/python3.10/dist-packages (from pyasn1-modules>=0.2.1->google-auth<3.0.dev0,>=2.14.1->google-api-core[grpc]!=2.0.*,!=2.1.*,!=2.2.*,!=2.3.0,<3.0.0dev,>=1.31.5->google-cloud-bigquery) (0.5.0)\n",
            "Requirement already satisfied: pandas in /usr/local/lib/python3.10/dist-packages (1.5.3)\n",
            "Requirement already satisfied: python-dateutil>=2.8.1 in /usr/local/lib/python3.10/dist-packages (from pandas) (2.8.2)\n",
            "Requirement already satisfied: pytz>=2020.1 in /usr/local/lib/python3.10/dist-packages (from pandas) (2023.3.post1)\n",
            "Requirement already satisfied: numpy>=1.21.0 in /usr/local/lib/python3.10/dist-packages (from pandas) (1.23.5)\n",
            "Requirement already satisfied: six>=1.5 in /usr/local/lib/python3.10/dist-packages (from python-dateutil>=2.8.1->pandas) (1.16.0)\n",
            "  track_id                 track_name_limpio artist_s_name_limpio  \\\n",
            "0  8597238  Run Rudolph Run   Single Version          Chuck Berry   \n",
            "1  2052397                            Beggin                M  ne   \n",
            "2  2226206                        SUPERMODEL                M  ne   \n",
            "3  5624903             I WANNA BE YOUR SLAVE                M  ne   \n",
            "4  6321372                     THE LONELIEST                M  ne   \n",
            "\n",
            "   artist_count released_date  in_spotify_playlists  in_spotify_charts  \\\n",
            "0             1    1958-01-01                  8612                  0   \n",
            "1             1    2017-12-08                  8559                  0   \n",
            "2             1    2022-05-13                  2265                  0   \n",
            "3             1    2021-03-19                  4873                  0   \n",
            "4             1    2022-10-07                  1585                  5   \n",
            "\n",
            "   stream_limpia  in_apple_playlists  in_apple_charts  ...  total_charts  \\\n",
            "0      245350949                 120               30  ...            30   \n",
            "1     1367810478                 183               64  ...            73   \n",
            "2      231657891                  93               12  ...            23   \n",
            "3      851070493                  65               88  ...            91   \n",
            "4      225093344                  78               65  ...            71   \n",
            "\n",
            "   cat_bpm  cat_streams  cat_dance  cat_valence  cat_energy  cat_acousticness  \\\n",
            "0     alto         bajo       bajo         alto        bajo              alto   \n",
            "1     bajo         alto       bajo         bajo        alto              bajo   \n",
            "2     bajo         bajo       bajo         alto        alto              bajo   \n",
            "3     bajo         alto       bajo         alto        bajo              bajo   \n",
            "4     bajo         bajo       bajo         bajo        bajo              bajo   \n",
            "\n",
            "   cat_instrumentalness  cat_liveness  cat_speechiness  \n",
            "0                  bajo          bajo             bajo  \n",
            "1                  bajo          alto             bajo  \n",
            "2                  bajo          bajo             bajo  \n",
            "3                  bajo          bajo             bajo  \n",
            "4                  bajo          bajo             bajo  \n",
            "\n",
            "[5 rows x 32 columns]\n"
          ]
        }
      ]
    },
    {
      "cell_type": "code",
      "source": [
        "from scipy.stats import wilcoxon\n",
        "import numpy as np\n",
        "# Ejemplo de dos grupos de datos ficticios\n",
        "grupo_1_altos = df.loc[df['cat_valence'] == 'alto', 'stream_limpia'].astype(float)\n",
        "grupo_2_bajos = df.loc[df['cat_valence'] == 'bajo', 'stream_limpia'].astype(float)\n",
        "# Eliminar valores NaN de los grupos\n",
        "grupo_1_altos = grupo_1_altos.dropna()\n",
        "grupo_2_bajos = grupo_2_bajos.dropna()\n",
        "# Verificar si hay suficientes datos después de eliminar NaN\n",
        "if len(grupo_1_altos) < 3 or len(grupo_2_bajos) < 3:\n",
        "    print('No hay suficientes datos después de eliminar NaN.')\n",
        "else:\n",
        "    # Imprimir las longitudes de los conjuntos de datos\n",
        "    print(f'Longitud del grupo 1 para cat_valence alto: {len(grupo_1_altos)}')\n",
        "    print(f'Longitud del grupo 2 para cat_valence bajo: {len(grupo_2_bajos)}')\n",
        "    # Calcular el promedio del grupo_1_altos\n",
        "    promedio_grupo_1_altos = grupo_1_altos.mean()\n",
        "    print(f'Promedio del grupo 1 para cat_valence alto: {promedio_grupo_1_altos}')\n",
        "    # Calcular el promedio del grupo_2_bajos\n",
        "    promedio_grupo_2_bajos = grupo_2_bajos.mean()\n",
        "    print(f'Promedio del grupo 2 para cat_valence bajo: {promedio_grupo_2_bajos}')\n",
        "    # Verificar si ambos conjuntos tienen la misma longitud\n",
        "    if len(grupo_1_altos) == len(grupo_2_bajos):\n",
        "        # Aplicar el test de Wilcoxon a los grupos\n",
        "        estadistico, p_valor = wilcoxon(grupo_1_altos, grupo_2_bajos, alternative='two-sided')\n",
        "        # Imprimir los resultados del test de Wilcoxon\n",
        "        print(f'Estadístico de prueba Wilcoxon: {estadistico}')\n",
        "        print(f'Valor p: {p_valor}')\n",
        "        # Interpretar los resultados\n",
        "        nivel_significancia = 0.05\n",
        "        if p_valor < nivel_significancia:\n",
        "            print('Hay una diferencia significativa entre los grupos.')\n",
        "    else:\n",
        "        print('Los conjuntos de datos tienen longitudes diferentes. Revisa tus datos y asegúrate de que ambos grupos tengan la misma longitud.')"
      ],
      "metadata": {
        "colab": {
          "base_uri": "https://localhost:8080/"
        },
        "id": "V4e1aHFHafAp",
        "outputId": "a5e3377d-3c70-4d9b-c296-ada76cab7cca"
      },
      "execution_count": null,
      "outputs": [
        {
          "output_type": "stream",
          "name": "stdout",
          "text": [
            "Longitud del grupo 1 para cat_valence alto: 241\n",
            "Longitud del grupo 2 para cat_valence bajo: 701\n",
            "Promedio del grupo 1 para cat_valence alto: 465796756.593361\n",
            "Promedio del grupo 2 para cat_valence bajo: 531063679.38944364\n",
            "Los conjuntos de datos tienen longitudes diferentes. Revisa tus datos y asegúrate de que ambos grupos tengan la misma longitud.\n"
          ]
        }
      ]
    },
    {
      "cell_type": "code",
      "source": [
        "from scipy.stats import wilcoxon\n",
        "import numpy as np\n",
        "# Igualar las longitudes tomando una muestra aleatoria del grupo más grande\n",
        "min_length = min(len(grupo_1_altos), len(grupo_2_bajos))\n",
        "grupo_1_altos = grupo_1_altos.sample(min_length, random_state=42)\n",
        "grupo_2_bajos = grupo_2_bajos.sample(min_length, random_state=42)\n",
        "# Aplicar el test de Wilcoxon a los grupos\n",
        "estadistico, p_valor = wilcoxon(grupo_1_altos, grupo_2_bajos, alternative='two-sided')\n",
        "# Imprimir los resultados del test de Wilcoxon\n",
        "print(f'Estadístico de prueba Wilcoxon: {estadistico}')\n",
        "print(f'Valor p: {p_valor}')\n",
        "# Interpretar los resultados\n",
        "nivel_significancia = 0.05\n",
        "if p_valor < nivel_significancia:\n",
        "    print('Hay una diferencia significativa entre los grupos.')\n",
        "else:\n",
        "    print('No hay evidencia suficiente para afirmar que hay una diferencia significativa entre los grupos.')"
      ],
      "metadata": {
        "colab": {
          "base_uri": "https://localhost:8080/"
        },
        "id": "iBKWA-daasPi",
        "outputId": "a8c4f6ec-9e5f-4d3e-f0a4-4e2fc64ea47a"
      },
      "execution_count": null,
      "outputs": [
        {
          "output_type": "stream",
          "name": "stdout",
          "text": [
            "Estadístico de prueba Wilcoxon: 11387.0\n",
            "Valor p: 0.0032015116842556346\n",
            "Hay una diferencia significativa entre los grupos.\n"
          ]
        }
      ]
    },
    {
      "cell_type": "code",
      "source": [
        "from scipy.stats import wilcoxon\n",
        "import numpy as np\n",
        "# Ejemplo de dos grupos de datos ficticios\n",
        "grupo_1_altos = df.loc[df['cat_dance'] == 'alto', 'stream_limpia'].astype(float)\n",
        "grupo_2_bajos = df.loc[df['cat_dance'] == 'bajo', 'stream_limpia'].astype(float)\n",
        "# Eliminar valores NaN de los grupos\n",
        "grupo_1_altos = grupo_1_altos.dropna()\n",
        "grupo_2_bajos = grupo_2_bajos.dropna()\n",
        "# Verificar si hay suficientes datos después de eliminar NaN\n",
        "if len(grupo_1_altos) < 3 or len(grupo_2_bajos) < 3:\n",
        "    print('No hay suficientes datos después de eliminar NaN.')\n",
        "else:\n",
        "    # Imprimir las longitudes de los conjuntos de datos\n",
        "    print(f'Longitud del grupo 1 para cat_dance alto: {len(grupo_1_altos)}')\n",
        "    print(f'Longitud del grupo 2 para cat_dance bajo: {len(grupo_2_bajos)}')\n",
        "    # Calcular el promedio del grupo_1_altos\n",
        "    promedio_grupo_1_altos = grupo_1_altos.mean()\n",
        "    print(f'Promedio del grupo 1 para cat_dance alto: {promedio_grupo_1_altos}')\n",
        "    # Calcular el promedio del grupo_2_bajos\n",
        "    promedio_grupo_2_bajos = grupo_2_bajos.mean()\n",
        "    print(f'Promedio del grupo 2 para cat_dance bajo: {promedio_grupo_2_bajos}')\n",
        "    # Verificar si ambos conjuntos tienen la misma longitud\n",
        "    if len(grupo_1_altos) == len(grupo_2_bajos):\n",
        "        # Aplicar el test de Wilcoxon a los grupos\n",
        "        estadistico, p_valor = wilcoxon(grupo_1_altos, grupo_2_bajos, alternative='two-sided')\n",
        "        # Imprimir los resultados del test de Wilcoxon\n",
        "        print(f'Estadístico de prueba Wilcoxon: {estadistico}')\n",
        "        print(f'Valor p: {p_valor}')\n",
        "        # Interpretar los resultados\n",
        "        nivel_significancia = 0.05\n",
        "        if p_valor < nivel_significancia:\n",
        "            print('Hay una diferencia significativa entre los grupos.')\n",
        "    else:\n",
        "        print('Los conjuntos de datos tienen longitudes diferentes. Revisa tus datos y asegúrate de que ambos grupos tengan la misma longitud.')"
      ],
      "metadata": {
        "colab": {
          "base_uri": "https://localhost:8080/"
        },
        "id": "z248dfXsasOD",
        "outputId": "5b8faa69-2bd0-49bf-9de8-c349372c5be4"
      },
      "execution_count": null,
      "outputs": [
        {
          "output_type": "stream",
          "name": "stdout",
          "text": [
            "Longitud del grupo 1 para cat_dance alto: 255\n",
            "Longitud del grupo 2 para cat_dance bajo: 687\n",
            "Promedio del grupo 1 para cat_dance alto: 423495321.83137256\n",
            "Promedio del grupo 2 para cat_dance bajo: 548095124.4890829\n",
            "Los conjuntos de datos tienen longitudes diferentes. Revisa tus datos y asegúrate de que ambos grupos tengan la misma longitud.\n"
          ]
        }
      ]
    },
    {
      "cell_type": "code",
      "source": [
        "from scipy.stats import wilcoxon\n",
        "import numpy as np\n",
        "# Igualar las longitudes tomando una muestra aleatoria del grupo más grande\n",
        "min_length = min(len(grupo_1_altos), len(grupo_2_bajos))\n",
        "grupo_1_altos = grupo_1_altos.sample(min_length, random_state=42)\n",
        "grupo_2_bajos = grupo_2_bajos.sample(min_length, random_state=42)\n",
        "# Aplicar el test de Wilcoxon a los grupos\n",
        "estadistico, p_valor = wilcoxon(grupo_1_altos, grupo_2_bajos, alternative='two-sided')\n",
        "# Imprimir los resultados del test de Wilcoxon\n",
        "print(f'Estadístico de prueba Wilcoxon: {estadistico}')\n",
        "print(f'Valor p: {p_valor}')\n",
        "# Interpretar los resultados\n",
        "nivel_significancia = 0.05\n",
        "if p_valor < nivel_significancia:\n",
        "    print('Hay una diferencia significativa entre los grupos.')\n",
        "else:\n",
        "    print('No hay evidencia suficiente para afirmar que hay una diferencia significativa entre los grupos.')"
      ],
      "metadata": {
        "colab": {
          "base_uri": "https://localhost:8080/"
        },
        "id": "rltsd2PmbJBW",
        "outputId": "2c9480a6-c990-4563-a908-693e40ff3df7"
      },
      "execution_count": null,
      "outputs": [
        {
          "output_type": "stream",
          "name": "stdout",
          "text": [
            "Estadístico de prueba Wilcoxon: 13677.0\n",
            "Valor p: 0.02497250021345304\n",
            "Hay una diferencia significativa entre los grupos.\n"
          ]
        }
      ]
    },
    {
      "cell_type": "code",
      "source": [
        "from scipy.stats import wilcoxon\n",
        "import numpy as np\n",
        "# Ejemplo de dos grupos de datos ficticios\n",
        "grupo_1_altos = df.loc[df['cat_energy'] == 'alto', 'stream_limpia'].astype(float)\n",
        "grupo_2_bajos = df.loc[df['cat_energy'] == 'bajo', 'stream_limpia'].astype(float)\n",
        "# Eliminar valores NaN de los grupos\n",
        "grupo_1_altos = grupo_1_altos.dropna()\n",
        "grupo_2_bajos = grupo_2_bajos.dropna()\n",
        "# Verificar si hay suficientes datos después de eliminar NaN\n",
        "if len(grupo_1_altos) < 3 or len(grupo_2_bajos) < 3:\n",
        "    print('No hay suficientes datos después de eliminar NaN.')\n",
        "else:\n",
        "    # Imprimir las longitudes de los conjuntos de datos\n",
        "    print(f'Longitud del grupo 1 para cat_energy alto: {len(grupo_1_altos)}')\n",
        "    print(f'Longitud del grupo 2 para cat_energy bajo: {len(grupo_2_bajos)}')\n",
        "    # Calcular el promedio del grupo_1_altos\n",
        "    promedio_grupo_1_altos = grupo_1_altos.mean()\n",
        "    print(f'Promedio del grupo 1 para cat_energy alto: {promedio_grupo_1_altos}')\n",
        "    # Calcular el promedio del grupo_2_bajos\n",
        "    promedio_grupo_2_bajos = grupo_2_bajos.mean()\n",
        "    print(f'Promedio del grupo 2 para cat_energy bajo: {promedio_grupo_2_bajos}')\n",
        "    # Verificar si ambos conjuntos tienen la misma longitud\n",
        "    if len(grupo_1_altos) == len(grupo_2_bajos):\n",
        "        # Aplicar el test de Wilcoxon a los grupos\n",
        "        estadistico, p_valor = wilcoxon(grupo_1_altos, grupo_2_bajos, alternative='two-sided')\n",
        "        # Imprimir los resultados del test de Wilcoxon\n",
        "        print(f'Estadístico de prueba Wilcoxon: {estadistico}')\n",
        "        print(f'Valor p: {p_valor}')\n",
        "        # Interpretar los resultados\n",
        "        nivel_significancia = 0.05\n",
        "        if p_valor < nivel_significancia:\n",
        "            print('Hay una diferencia significativa entre los grupos.')\n",
        "    else:\n",
        "        print('Los conjuntos de datos tienen longitudes diferentes. Revisa tus datos y asegúrate de que ambos grupos tengan la misma longitud.')"
      ],
      "metadata": {
        "colab": {
          "base_uri": "https://localhost:8080/"
        },
        "id": "1C73b6xlbOX7",
        "outputId": "57554e37-cf25-4e31-c855-f30742f83100"
      },
      "execution_count": null,
      "outputs": [
        {
          "output_type": "stream",
          "name": "stdout",
          "text": [
            "Longitud del grupo 1 para cat_energy alto: 242\n",
            "Longitud del grupo 2 para cat_energy bajo: 700\n",
            "Promedio del grupo 1 para cat_energy alto: 500140884.59917355\n",
            "Promedio del grupo 2 para cat_energy bajo: 519283662.1685714\n",
            "Los conjuntos de datos tienen longitudes diferentes. Revisa tus datos y asegúrate de que ambos grupos tengan la misma longitud.\n"
          ]
        }
      ]
    },
    {
      "cell_type": "code",
      "source": [
        "from scipy.stats import wilcoxon\n",
        "import numpy as np\n",
        "# Igualar las longitudes tomando una muestra aleatoria del grupo más grande\n",
        "min_length = min(len(grupo_1_altos), len(grupo_2_bajos))\n",
        "grupo_1_altos = grupo_1_altos.sample(min_length, random_state=42)\n",
        "grupo_2_bajos = grupo_2_bajos.sample(min_length, random_state=42)\n",
        "# Aplicar el test de Wilcoxon a los grupos\n",
        "estadistico, p_valor = wilcoxon(grupo_1_altos, grupo_2_bajos, alternative='two-sided')\n",
        "# Imprimir los resultados del test de Wilcoxon\n",
        "print(f'Estadístico de prueba Wilcoxon: {estadistico}')\n",
        "print(f'Valor p: {p_valor}')\n",
        "# Interpretar los resultados\n",
        "nivel_significancia = 0.05\n",
        "if p_valor < nivel_significancia:\n",
        "    print('Hay una diferencia significativa entre los grupos.')\n",
        "else:\n",
        "    print('No hay evidencia suficiente para afirmar que hay una diferencia significativa entre los grupos.')"
      ],
      "metadata": {
        "colab": {
          "base_uri": "https://localhost:8080/"
        },
        "id": "31pvh7N1bOWQ",
        "outputId": "6613f77a-fe67-420c-8f4a-b5ce19c67ac0"
      },
      "execution_count": null,
      "outputs": [
        {
          "output_type": "stream",
          "name": "stdout",
          "text": [
            "Estadístico de prueba Wilcoxon: 14274.0\n",
            "Valor p: 0.6949421607515598\n",
            "No hay evidencia suficiente para afirmar que hay una diferencia significativa entre los grupos.\n"
          ]
        }
      ]
    },
    {
      "cell_type": "code",
      "source": [
        "from scipy.stats import wilcoxon\n",
        "import numpy as np\n",
        "# Ejemplo de dos grupos de datos ficticios\n",
        "grupo_1_altos = df.loc[df['cat_acousticness'] == 'alto', 'stream_limpia'].astype(float)\n",
        "grupo_2_bajos = df.loc[df['cat_acousticness'] == 'bajo', 'stream_limpia'].astype(float)\n",
        "# Eliminar valores NaN de los grupos\n",
        "grupo_1_altos = grupo_1_altos.dropna()\n",
        "grupo_2_bajos = grupo_2_bajos.dropna()\n",
        "# Verificar si hay suficientes datos después de eliminar NaN\n",
        "if len(grupo_1_altos) < 3 or len(grupo_2_bajos) < 3:\n",
        "    print('No hay suficientes datos después de eliminar NaN.')\n",
        "else:\n",
        "    # Imprimir las longitudes de los conjuntos de datos\n",
        "    print(f'Longitud del grupo 1 para cat_acousticness alto: {len(grupo_1_altos)}')\n",
        "    print(f'Longitud del grupo 2 para cat_acousticness bajo: {len(grupo_2_bajos)}')\n",
        "    # Calcular el promedio del grupo_1_altos\n",
        "    promedio_grupo_1_altos = grupo_1_altos.mean()\n",
        "    print(f'Promedio del grupo 1 para cat_acousticness alto: {promedio_grupo_1_altos}')\n",
        "    # Calcular el promedio del grupo_2_bajos\n",
        "    promedio_grupo_2_bajos = grupo_2_bajos.mean()\n",
        "    print(f'Promedio del grupo 2 para cat_acousticness bajo: {promedio_grupo_2_bajos}')\n",
        "    # Verificar si ambos conjuntos tienen la misma longitud\n",
        "    if len(grupo_1_altos) == len(grupo_2_bajos):\n",
        "        # Aplicar el test de Wilcoxon a los grupos\n",
        "        estadistico, p_valor = wilcoxon(grupo_1_altos, grupo_2_bajos, alternative='two-sided')\n",
        "        # Imprimir los resultados del test de Wilcoxon\n",
        "        print(f'Estadístico de prueba Wilcoxon: {estadistico}')\n",
        "        print(f'Valor p: {p_valor}')\n",
        "        # Interpretar los resultados\n",
        "        nivel_significancia = 0.05\n",
        "        if p_valor < nivel_significancia:\n",
        "            print('Hay una diferencia significativa entre los grupos.')\n",
        "    else:\n",
        "        print('Los conjuntos de datos tienen longitudes diferentes. Revisa tus datos y asegúrate de que ambos grupos tengan la misma longitud.')"
      ],
      "metadata": {
        "colab": {
          "base_uri": "https://localhost:8080/"
        },
        "id": "c8DfLGMtbvnu",
        "outputId": "c94eaf6e-658a-44c4-d894-397c9d95d676"
      },
      "execution_count": null,
      "outputs": [
        {
          "output_type": "stream",
          "name": "stdout",
          "text": [
            "Longitud del grupo 1 para cat_acousticness alto: 240\n",
            "Longitud del grupo 2 para cat_acousticness bajo: 702\n",
            "Promedio del grupo 1 para cat_acousticness alto: 537323432.4625\n",
            "Promedio del grupo 2 para cat_acousticness bajo: 506517142.16524214\n",
            "Los conjuntos de datos tienen longitudes diferentes. Revisa tus datos y asegúrate de que ambos grupos tengan la misma longitud.\n"
          ]
        }
      ]
    },
    {
      "cell_type": "code",
      "source": [
        "from scipy.stats import wilcoxon\n",
        "import numpy as np\n",
        "# Igualar las longitudes tomando una muestra aleatoria del grupo más grande\n",
        "min_length = min(len(grupo_1_altos), len(grupo_2_bajos))\n",
        "grupo_1_altos = grupo_1_altos.sample(min_length, random_state=42)\n",
        "grupo_2_bajos = grupo_2_bajos.sample(min_length, random_state=42)\n",
        "# Aplicar el test de Wilcoxon a los grupos\n",
        "estadistico, p_valor = wilcoxon(grupo_1_altos, grupo_2_bajos, alternative='two-sided')\n",
        "# Imprimir los resultados del test de Wilcoxon\n",
        "print(f'Estadístico de prueba Wilcoxon: {estadistico}')\n",
        "print(f'Valor p: {p_valor}')\n",
        "# Interpretar los resultados\n",
        "nivel_significancia = 0.05\n",
        "if p_valor < nivel_significancia:\n",
        "    print('Hay una diferencia significativa entre los grupos.')\n",
        "else:\n",
        "    print('No hay evidencia suficiente para afirmar que hay una diferencia significativa entre los grupos.')"
      ],
      "metadata": {
        "colab": {
          "base_uri": "https://localhost:8080/"
        },
        "id": "mN3ceAtyb6V9",
        "outputId": "2738105e-0e2f-446c-e53a-32b41f32f4a5"
      },
      "execution_count": null,
      "outputs": [
        {
          "output_type": "stream",
          "name": "stdout",
          "text": [
            "Estadístico de prueba Wilcoxon: 14218.0\n",
            "Valor p: 0.8221598317636875\n",
            "No hay evidencia suficiente para afirmar que hay una diferencia significativa entre los grupos.\n"
          ]
        }
      ]
    },
    {
      "cell_type": "code",
      "source": [
        "from scipy.stats import wilcoxon\n",
        "import numpy as np\n",
        "# Ejemplo de dos grupos de datos ficticios\n",
        "grupo_1_altos = df.loc[df['cat_instrumentalness'] == 'alto', 'stream_limpia'].astype(float)\n",
        "grupo_2_bajos = df.loc[df['cat_instrumentalness'] == 'bajo', 'stream_limpia'].astype(float)\n",
        "# Eliminar valores NaN de los grupos\n",
        "grupo_1_altos = grupo_1_altos.dropna()\n",
        "grupo_2_bajos = grupo_2_bajos.dropna()\n",
        "# Verificar si hay suficientes datos después de eliminar NaN\n",
        "if len(grupo_1_altos) < 3 or len(grupo_2_bajos) < 3:\n",
        "    print('No hay suficientes datos después de eliminar NaN.')\n",
        "else:\n",
        "    # Imprimir las longitudes de los conjuntos de datos\n",
        "    print(f'Longitud del grupo 1 para cat_instrumentalness alto: {len(grupo_1_altos)}')\n",
        "    print(f'Longitud del grupo 2 para cat_instrumentalness bajo: {len(grupo_2_bajos)}')\n",
        "    # Calcular el promedio del grupo_1_altos\n",
        "    promedio_grupo_1_altos = grupo_1_altos.mean()\n",
        "    print(f'Promedio del grupo 1 para cat_instrumentalness alto: {promedio_grupo_1_altos}')\n",
        "    # Calcular el promedio del grupo_2_bajos\n",
        "    promedio_grupo_2_bajos = grupo_2_bajos.mean()\n",
        "    print(f'Promedio del grupo 2 para cat_instrumentalness bajo: {promedio_grupo_2_bajos}')\n",
        "    # Verificar si ambos conjuntos tienen la misma longitud\n",
        "    if len(grupo_1_altos) == len(grupo_2_bajos):\n",
        "        # Aplicar el test de Wilcoxon a los grupos\n",
        "        estadistico, p_valor = wilcoxon(grupo_1_altos, grupo_2_bajos, alternative='two-sided')\n",
        "        # Imprimir los resultados del test de Wilcoxon\n",
        "        print(f'Estadístico de prueba Wilcoxon: {estadistico}')\n",
        "        print(f'Valor p: {p_valor}')\n",
        "        # Interpretar los resultados\n",
        "        nivel_significancia = 0.05\n",
        "        if p_valor < nivel_significancia:\n",
        "            print('Hay una diferencia significativa entre los grupos.')\n",
        "    else:\n",
        "        print('Los conjuntos de datos tienen longitudes diferentes. Revisa tus datos y asegúrate de que ambos grupos tengan la misma longitud.')"
      ],
      "metadata": {
        "colab": {
          "base_uri": "https://localhost:8080/"
        },
        "id": "vf4O_G5qb6UE",
        "outputId": "586206a8-2a9c-4a1e-83d2-e2519b400322"
      },
      "execution_count": null,
      "outputs": [
        {
          "output_type": "stream",
          "name": "stdout",
          "text": [
            "Longitud del grupo 1 para cat_instrumentalness alto: 85\n",
            "Longitud del grupo 2 para cat_instrumentalness bajo: 857\n",
            "Promedio del grupo 1 para cat_instrumentalness alto: 445746990.9882353\n",
            "Promedio del grupo 2 para cat_instrumentalness bajo: 521171719.20303386\n",
            "Los conjuntos de datos tienen longitudes diferentes. Revisa tus datos y asegúrate de que ambos grupos tengan la misma longitud.\n"
          ]
        }
      ]
    },
    {
      "cell_type": "code",
      "source": [
        "from scipy.stats import wilcoxon\n",
        "import numpy as np\n",
        "# Igualar las longitudes tomando una muestra aleatoria del grupo más grande\n",
        "min_length = min(len(grupo_1_altos), len(grupo_2_bajos))\n",
        "grupo_1_altos = grupo_1_altos.sample(min_length, random_state=42)\n",
        "grupo_2_bajos = grupo_2_bajos.sample(min_length, random_state=42)\n",
        "# Aplicar el test de Wilcoxon a los grupos\n",
        "estadistico, p_valor = wilcoxon(grupo_1_altos, grupo_2_bajos, alternative='two-sided')\n",
        "# Imprimir los resultados del test de Wilcoxon\n",
        "print(f'Estadístico de prueba Wilcoxon: {estadistico}')\n",
        "print(f'Valor p: {p_valor}')\n",
        "# Interpretar los resultados\n",
        "nivel_significancia = 0.05\n",
        "if p_valor < nivel_significancia:\n",
        "    print('Hay una diferencia significativa entre los grupos.')\n",
        "else:\n",
        "    print('No hay evidencia suficiente para afirmar que hay una diferencia significativa entre los grupos.')"
      ],
      "metadata": {
        "colab": {
          "base_uri": "https://localhost:8080/"
        },
        "id": "j4MS_CwpcIY4",
        "outputId": "48a1650c-895e-47cc-ac4f-2a666125766e"
      },
      "execution_count": null,
      "outputs": [
        {
          "output_type": "stream",
          "name": "stdout",
          "text": [
            "Estadístico de prueba Wilcoxon: 1418.0\n",
            "Valor p: 0.07276020601437659\n",
            "No hay evidencia suficiente para afirmar que hay una diferencia significativa entre los grupos.\n"
          ]
        }
      ]
    },
    {
      "cell_type": "code",
      "source": [
        "from scipy.stats import wilcoxon\n",
        "import numpy as np\n",
        "# Ejemplo de dos grupos de datos ficticios\n",
        "grupo_1_altos = df.loc[df['cat_liveness'] == 'alto', 'stream_limpia'].astype(float)\n",
        "grupo_2_bajos = df.loc[df['cat_liveness'] == 'bajo', 'stream_limpia'].astype(float)\n",
        "# Eliminar valores NaN de los grupos\n",
        "grupo_1_altos = grupo_1_altos.dropna()\n",
        "grupo_2_bajos = grupo_2_bajos.dropna()\n",
        "# Verificar si hay suficientes datos después de eliminar NaN\n",
        "if len(grupo_1_altos) < 3 or len(grupo_2_bajos) < 3:\n",
        "    print('No hay suficientes datos después de eliminar NaN.')\n",
        "else:\n",
        "    # Imprimir las longitudes de los conjuntos de datos\n",
        "    print(f'Longitud del grupo 1 para cat_liveness alto: {len(grupo_1_altos)}')\n",
        "    print(f'Longitud del grupo 2 para cat_liveness bajo: {len(grupo_2_bajos)}')\n",
        "    # Calcular el promedio del grupo_1_altos\n",
        "    promedio_grupo_1_altos = grupo_1_altos.mean()\n",
        "    print(f'Promedio del grupo 1 para cat_liveness alto: {promedio_grupo_1_altos}')\n",
        "    # Calcular el promedio del grupo_2_bajos\n",
        "    promedio_grupo_2_bajos = grupo_2_bajos.mean()\n",
        "    print(f'Promedio del grupo 2 para cat_liveness bajo: {promedio_grupo_2_bajos}')\n",
        "    # Verificar si ambos conjuntos tienen la misma longitud\n",
        "    if len(grupo_1_altos) == len(grupo_2_bajos):\n",
        "        # Aplicar el test de Wilcoxon a los grupos\n",
        "        estadistico, p_valor = wilcoxon(grupo_1_altos, grupo_2_bajos, alternative='two-sided')\n",
        "        # Imprimir los resultados del test de Wilcoxon\n",
        "        print(f'Estadístico de prueba Wilcoxon: {estadistico}')\n",
        "        print(f'Valor p: {p_valor}')\n",
        "        # Interpretar los resultados\n",
        "        nivel_significancia = 0.05\n",
        "        if p_valor < nivel_significancia:\n",
        "            print('Hay una diferencia significativa entre los grupos.')\n",
        "    else:\n",
        "        print('Los conjuntos de datos tienen longitudes diferentes. Revisa tus datos y asegúrate de que ambos grupos tengan la misma longitud.')"
      ],
      "metadata": {
        "colab": {
          "base_uri": "https://localhost:8080/"
        },
        "id": "DbhHJvJscIWd",
        "outputId": "0e3b7040-6233-408a-e216-e04549bd19da"
      },
      "execution_count": null,
      "outputs": [
        {
          "output_type": "stream",
          "name": "stdout",
          "text": [
            "Longitud del grupo 1 para cat_liveness alto: 247\n",
            "Longitud del grupo 2 para cat_liveness bajo: 695\n",
            "Promedio del grupo 1 para cat_liveness alto: 498079313.74898785\n",
            "Promedio del grupo 2 para cat_liveness bajo: 520154053.37410074\n",
            "Los conjuntos de datos tienen longitudes diferentes. Revisa tus datos y asegúrate de que ambos grupos tengan la misma longitud.\n"
          ]
        }
      ]
    },
    {
      "cell_type": "code",
      "source": [
        "from scipy.stats import wilcoxon\n",
        "import numpy as np\n",
        "# Igualar las longitudes tomando una muestra aleatoria del grupo más grande\n",
        "min_length = min(len(grupo_1_altos), len(grupo_2_bajos))\n",
        "grupo_1_altos = grupo_1_altos.sample(min_length, random_state=42)\n",
        "grupo_2_bajos = grupo_2_bajos.sample(min_length, random_state=42)\n",
        "# Aplicar el test de Wilcoxon a los grupos\n",
        "estadistico, p_valor = wilcoxon(grupo_1_altos, grupo_2_bajos, alternative='two-sided')\n",
        "# Imprimir los resultados del test de Wilcoxon\n",
        "print(f'Estadístico de prueba Wilcoxon: {estadistico}')\n",
        "print(f'Valor p: {p_valor}')\n",
        "# Interpretar los resultados\n",
        "nivel_significancia = 0.05\n",
        "if p_valor < nivel_significancia:\n",
        "    print('Hay una diferencia significativa entre los grupos.')\n",
        "else:\n",
        "    print('No hay evidencia suficiente para afirmar que hay una diferencia significativa entre los grupos.')"
      ],
      "metadata": {
        "colab": {
          "base_uri": "https://localhost:8080/"
        },
        "id": "V5olIyPkcaao",
        "outputId": "1f391d9d-e696-4267-843e-085015d14888"
      },
      "execution_count": null,
      "outputs": [
        {
          "output_type": "stream",
          "name": "stdout",
          "text": [
            "Estadístico de prueba Wilcoxon: 13416.0\n",
            "Valor p: 0.09129750686037158\n",
            "No hay evidencia suficiente para afirmar que hay una diferencia significativa entre los grupos.\n"
          ]
        }
      ]
    },
    {
      "cell_type": "code",
      "source": [
        "from scipy.stats import wilcoxon\n",
        "import numpy as np\n",
        "# Ejemplo de dos grupos de datos ficticios\n",
        "grupo_1_altos = df.loc[df['cat_speechiness'] == 'alto', 'stream_limpia'].astype(float)\n",
        "grupo_2_bajos = df.loc[df['cat_speechiness'] == 'bajo', 'stream_limpia'].astype(float)\n",
        "# Eliminar valores NaN de los grupos\n",
        "grupo_1_altos = grupo_1_altos.dropna()\n",
        "grupo_2_bajos = grupo_2_bajos.dropna()\n",
        "# Verificar si hay suficientes datos después de eliminar NaN\n",
        "if len(grupo_1_altos) < 3 or len(grupo_2_bajos) < 3:\n",
        "    print('No hay suficientes datos después de eliminar NaN.')\n",
        "else:\n",
        "    # Imprimir las longitudes de los conjuntos de datos\n",
        "    print(f'Longitud del grupo 1 para cat_speechiness alto: {len(grupo_1_altos)}')\n",
        "    print(f'Longitud del grupo 2 para cat_speechiness bajo: {len(grupo_2_bajos)}')\n",
        "    # Calcular el promedio del grupo_1_altos\n",
        "    promedio_grupo_1_altos = grupo_1_altos.mean()\n",
        "    print(f'Promedio del grupo 1 para cat_speechiness alto: {promedio_grupo_1_altos}')\n",
        "    # Calcular el promedio del grupo_2_bajos\n",
        "    promedio_grupo_2_bajos = grupo_2_bajos.mean()\n",
        "    print(f'Promedio del grupo 2 para cat_speechiness bajo: {promedio_grupo_2_bajos}')\n",
        "    # Verificar si ambos conjuntos tienen la misma longitud\n",
        "    if len(grupo_1_altos) == len(grupo_2_bajos):\n",
        "        # Aplicar el test de Wilcoxon a los grupos\n",
        "        estadistico, p_valor = wilcoxon(grupo_1_altos, grupo_2_bajos, alternative='two-sided')\n",
        "        # Imprimir los resultados del test de Wilcoxon\n",
        "        print(f'Estadístico de prueba Wilcoxon: {estadistico}')\n",
        "        print(f'Valor p: {p_valor}')\n",
        "        # Interpretar los resultados\n",
        "        nivel_significancia = 0.05\n",
        "        if p_valor < nivel_significancia:\n",
        "            print('Hay una diferencia significativa entre los grupos.')\n",
        "    else:\n",
        "        print('Los conjuntos de datos tienen longitudes diferentes. Revisa tus datos y asegúrate de que ambos grupos tengan la misma longitud.')"
      ],
      "metadata": {
        "colab": {
          "base_uri": "https://localhost:8080/"
        },
        "id": "jxQzFoeZcggE",
        "outputId": "e52e9192-4c98-409b-9232-50b2abe2c7dc"
      },
      "execution_count": null,
      "outputs": [
        {
          "output_type": "stream",
          "name": "stdout",
          "text": [
            "Longitud del grupo 1 para cat_speechiness alto: 255\n",
            "Longitud del grupo 2 para cat_speechiness bajo: 687\n",
            "Promedio del grupo 1 para cat_speechiness alto: 424351822.1960784\n",
            "Promedio del grupo 2 para cat_speechiness bajo: 547777209.5065502\n",
            "Los conjuntos de datos tienen longitudes diferentes. Revisa tus datos y asegúrate de que ambos grupos tengan la misma longitud.\n"
          ]
        }
      ]
    },
    {
      "cell_type": "code",
      "source": [
        "from scipy.stats import wilcoxon\n",
        "import numpy as np\n",
        "# Igualar las longitudes tomando una muestra aleatoria del grupo más grande\n",
        "min_length = min(len(grupo_1_altos), len(grupo_2_bajos))\n",
        "grupo_1_altos = grupo_1_altos.sample(min_length, random_state=42)\n",
        "grupo_2_bajos = grupo_2_bajos.sample(min_length, random_state=42)\n",
        "# Aplicar el test de Wilcoxon a los grupos\n",
        "estadistico, p_valor = wilcoxon(grupo_1_altos, grupo_2_bajos, alternative='two-sided')\n",
        "# Imprimir los resultados del test de Wilcoxon\n",
        "print(f'Estadístico de prueba Wilcoxon: {estadistico}')\n",
        "print(f'Valor p: {p_valor}')\n",
        "# Interpretar los resultados\n",
        "nivel_significancia = 0.05\n",
        "if p_valor < nivel_significancia:\n",
        "    print('Hay una diferencia significativa entre los grupos.')\n",
        "else:\n",
        "    print('No hay evidencia suficiente para afirmar que hay una diferencia significativa entre los grupos.')"
      ],
      "metadata": {
        "colab": {
          "base_uri": "https://localhost:8080/"
        },
        "id": "z0GjxFKlcqLj",
        "outputId": "2d4a0418-f06e-4390-d132-e5efaf87dcd4"
      },
      "execution_count": null,
      "outputs": [
        {
          "output_type": "stream",
          "name": "stdout",
          "text": [
            "Estadístico de prueba Wilcoxon: 13523.0\n",
            "Valor p: 0.017670425022928885\n",
            "Hay una diferencia significativa entre los grupos.\n"
          ]
        }
      ]
    },
    {
      "cell_type": "code",
      "source": [
        "import pandas as pd\n",
        "from scipy.stats import mannwhitneyu\n",
        "# Suponiendo que 'df' es tu DataFrame original\n",
        "df_mann = df[['stream_limpia', 'cat_streams', 'cat_dance', 'cat_valence', 'cat_energy', 'cat_acousticness', 'cat_instrumentalness', 'cat_liveness', 'cat_speechiness']].copy()\n",
        " #Convertir 'cat_dance' a valores de cadena\n",
        "df_mann['cat_dance'] = df_mann['cat_dance'].astype(str)\n",
        "df_mann['stream_limpia']=df_mann['stream_limpia'].astype(\"float\")\n",
        "# Separa las muestras en \"alto stream\" y \"bajo stream\" según la columna 'categoria'\n",
        "alto_stream = df_mann[df_mann['cat_dance'] == 'alto']['stream_limpia']\n",
        "bajo_stream = df_mann[df_mann['cat_dance'] == 'bajo']['stream_limpia']\n",
        "# Realiza la prueba de Mann-Whitney\n",
        "resultado_mannwhitneyu = mannwhitneyu(alto_stream, bajo_stream)\n",
        "# Imprime el resultado\n",
        "print(\"Estadística de prueba U:\", resultado_mannwhitneyu.statistic)\n",
        "print(\"Valor p:\", resultado_mannwhitneyu.pvalue)\n",
        "# Interpretación del resultado\n",
        "if resultado_mannwhitneyu.pvalue < 0.05:\n",
        "    print(\"Hay evidencia estadística para rechazar la hipótesis nula. Las muestras son diferentes.\")\n",
        "else:\n",
        "    print(\"No hay suficiente evidencia estadística para rechazar la hipótesis nula. Las muestras son similares.\")"
      ],
      "metadata": {
        "colab": {
          "base_uri": "https://localhost:8080/"
        },
        "id": "c70GeK0jVdHf",
        "outputId": "3925d5b0-a847-49a1-aff8-92e7ef6a8d71"
      },
      "execution_count": null,
      "outputs": [
        {
          "output_type": "stream",
          "name": "stdout",
          "text": [
            "Estadística de prueba U: 78667.0\n",
            "Valor p: 0.016152999609606006\n",
            "Hay evidencia estadística para rechazar la hipótesis nula. Las muestras son diferentes.\n"
          ]
        }
      ]
    },
    {
      "cell_type": "code",
      "source": [
        "import pandas as pd\n",
        "from scipy.stats import mannwhitneyu\n",
        "# Suponiendo que 'df' es tu DataFrame original\n",
        "df_mann = df[['stream_limpia', 'cat_streams', 'cat_dance', 'cat_valence', 'cat_energy', 'cat_acousticness', 'cat_instrumentalness', 'cat_liveness', 'cat_speechiness']].copy()\n",
        " #Convertir 'cat_valence' a valores de cadena\n",
        "df_mann['cat_valence'] = df_mann['cat_valence'].astype(str)\n",
        "df_mann['stream_limpia']=df_mann['stream_limpia'].astype(\"float\")\n",
        "# Separa las muestras en \"alto stream\" y \"bajo stream\" según la columna 'categoria'\n",
        "alto_stream = df_mann[df_mann['cat_valence'] == 'alto']['stream_limpia']\n",
        "bajo_stream = df_mann[df_mann['cat_valence'] == 'bajo']['stream_limpia']\n",
        "# Realiza la prueba de Mann-Whitney\n",
        "resultado_mannwhitneyu = mannwhitneyu(alto_stream, bajo_stream)\n",
        "# Imprime el resultado\n",
        "print(\"Estadística de prueba U:\", resultado_mannwhitneyu.statistic)\n",
        "print(\"Valor p:\", resultado_mannwhitneyu.pvalue)\n",
        "# Interpretación del resultado\n",
        "if resultado_mannwhitneyu.pvalue < 0.05:\n",
        "    print(\"Hay evidencia estadística para rechazar la hipótesis nula. Las muestras son diferentes.\")\n",
        "else:\n",
        "    print(\"No hay suficiente evidencia estadística para rechazar la hipótesis nula. Las muestras son similares.\")"
      ],
      "metadata": {
        "colab": {
          "base_uri": "https://localhost:8080/"
        },
        "id": "twfQPrSbU0Dg",
        "outputId": "5b320932-3636-4a7a-bbac-3376a8f39518"
      },
      "execution_count": null,
      "outputs": [
        {
          "output_type": "stream",
          "name": "stdout",
          "text": [
            "Estadística de prueba U: 80204.5\n",
            "Valor p: 0.24172851285964114\n",
            "No hay suficiente evidencia estadística para rechazar la hipótesis nula. Las muestras son similares.\n"
          ]
        }
      ]
    },
    {
      "cell_type": "code",
      "source": [
        "import pandas as pd\n",
        "from scipy.stats import mannwhitneyu\n",
        "# Suponiendo que 'df' es tu DataFrame original\n",
        "df_mann = df[['stream_limpia', 'cat_streams', 'cat_dance', 'cat_valence', 'cat_energy', 'cat_acousticness', 'cat_instrumentalness', 'cat_liveness', 'cat_speechiness']].copy()\n",
        " #Convertir 'cat_energy' a valores de cadena\n",
        "df_mann['cat_energy'] = df_mann['cat_energy'].astype(str)\n",
        "df_mann['stream_limpia']=df_mann['stream_limpia'].astype(\"float\")\n",
        "# Separa las muestras en \"alto stream\" y \"bajo stream\" según la columna 'categoria'\n",
        "alto_stream = df_mann[df_mann['cat_energy'] == 'alto']['stream_limpia']\n",
        "bajo_stream = df_mann[df_mann['cat_energy'] == 'bajo']['stream_limpia']\n",
        "# Realiza la prueba de Mann-Whitney\n",
        "resultado_mannwhitneyu = mannwhitneyu(alto_stream, bajo_stream)\n",
        "# Imprime el resultado\n",
        "print(\"Estadística de prueba U:\", resultado_mannwhitneyu.statistic)\n",
        "print(\"Valor p:\", resultado_mannwhitneyu.pvalue)\n",
        "# Interpretación del resultado\n",
        "if resultado_mannwhitneyu.pvalue < 0.05:\n",
        "    print(\"Hay evidencia estadística para rechazar la hipótesis nula. Las muestras son diferentes.\")\n",
        "else:\n",
        "    print(\"No hay suficiente evidencia estadística para rechazar la hipótesis nula. Las muestras son similares.\")"
      ],
      "metadata": {
        "colab": {
          "base_uri": "https://localhost:8080/"
        },
        "id": "KKeYxHwbViXJ",
        "outputId": "8c7143be-08ce-4057-eeaf-acb44f35432e"
      },
      "execution_count": null,
      "outputs": [
        {
          "output_type": "stream",
          "name": "stdout",
          "text": [
            "Estadística de prueba U: 81710.0\n",
            "Valor p: 0.4125790289707031\n",
            "No hay suficiente evidencia estadística para rechazar la hipótesis nula. Las muestras son similares.\n"
          ]
        }
      ]
    },
    {
      "cell_type": "code",
      "source": [
        "import pandas as pd\n",
        "from scipy.stats import mannwhitneyu\n",
        "# Suponiendo que 'df' es tu DataFrame original\n",
        "df_mann = df[['stream_limpia', 'cat_streams', 'cat_dance', 'cat_valence', 'cat_energy', 'cat_acousticness', 'cat_instrumentalness', 'cat_liveness', 'cat_speechiness']].copy()\n",
        " #Convertir 'cat_energy' a valores de cadena\n",
        "df_mann['cat_acousticness'] = df_mann['cat_acousticness'].astype(str)\n",
        "df_mann['stream_limpia']=df_mann['stream_limpia'].astype(\"float\")\n",
        "# Separa las muestras en \"alto stream\" y \"bajo stream\" según la columna 'categoria'\n",
        "alto_stream = df_mann[df_mann['cat_acousticness'] == 'alto']['stream_limpia']\n",
        "bajo_stream = df_mann[df_mann['cat_acousticness'] == 'bajo']['stream_limpia']\n",
        "# Realiza la prueba de Mann-Whitney\n",
        "resultado_mannwhitneyu = mannwhitneyu(alto_stream, bajo_stream)\n",
        "# Imprime el resultado\n",
        "print(\"Estadística de prueba U:\", resultado_mannwhitneyu.statistic)\n",
        "print(\"Valor p:\", resultado_mannwhitneyu.pvalue)\n",
        "# Interpretación del resultado\n",
        "if resultado_mannwhitneyu.pvalue < 0.05:\n",
        "    print(\"Hay evidencia estadística para rechazar la hipótesis nula. Las muestras son diferentes.\")\n",
        "else:\n",
        "    print(\"No hay suficiente evidencia estadística para rechazar la hipótesis nula. Las muestras son similares.\")"
      ],
      "metadata": {
        "colab": {
          "base_uri": "https://localhost:8080/"
        },
        "id": "I0H7o_nkVrkw",
        "outputId": "2bf59d61-5357-440f-ac65-7fa5a60313d6"
      },
      "execution_count": null,
      "outputs": [
        {
          "output_type": "stream",
          "name": "stdout",
          "text": [
            "Estadística de prueba U: 83066.0\n",
            "Valor p: 0.7470660746367352\n",
            "No hay suficiente evidencia estadística para rechazar la hipótesis nula. Las muestras son similares.\n"
          ]
        }
      ]
    },
    {
      "cell_type": "code",
      "source": [
        "import pandas as pd\n",
        "from scipy.stats import mannwhitneyu\n",
        "# Suponiendo que 'df' es tu DataFrame original\n",
        "df_mann = df[['stream_limpia', 'cat_streams', 'cat_dance', 'cat_valence', 'cat_energy', 'cat_acousticness', 'cat_instrumentalness', 'cat_liveness', 'cat_speechiness']].copy()\n",
        " #Convertir 'cat_energy' a valores de cadena\n",
        "df_mann['cat_instrumentalness'] = df_mann['cat_instrumentalness'].astype(str)\n",
        "df_mann['stream_limpia']=df_mann['stream_limpia'].astype(\"float\")\n",
        "# Separa las muestras en \"alto stream\" y \"bajo stream\" según la columna 'categoria'\n",
        "alto_stream = df_mann[df_mann['cat_instrumentalness'] == 'alto']['stream_limpia']\n",
        "bajo_stream = df_mann[df_mann['cat_instrumentalness'] == 'bajo']['stream_limpia']\n",
        "# Realiza la prueba de Mann-Whitney\n",
        "resultado_mannwhitneyu = mannwhitneyu(alto_stream, bajo_stream)\n",
        "# Imprime el resultado\n",
        "print(\"Estadística de prueba U:\", resultado_mannwhitneyu.statistic)\n",
        "print(\"Valor p:\", resultado_mannwhitneyu.pvalue)\n",
        "# Interpretación del resultado\n",
        "if resultado_mannwhitneyu.pvalue < 0.05:\n",
        "    print(\"Hay evidencia estadística para rechazar la hipótesis nula. Las muestras son diferentes.\")\n",
        "else:\n",
        "    print(\"No hay suficiente evidencia estadística para rechazar la hipótesis nula. Las muestras son similares.\")"
      ],
      "metadata": {
        "colab": {
          "base_uri": "https://localhost:8080/"
        },
        "id": "7TEUrS6YVya7",
        "outputId": "b3e5ef86-e2a4-4459-caa9-dac21517cc0a"
      },
      "execution_count": null,
      "outputs": [
        {
          "output_type": "stream",
          "name": "stdout",
          "text": [
            "Estadística de prueba U: 36240.0\n",
            "Valor p: 0.9393643997784231\n",
            "No hay suficiente evidencia estadística para rechazar la hipótesis nula. Las muestras son similares.\n"
          ]
        }
      ]
    },
    {
      "cell_type": "code",
      "source": [
        "import pandas as pd\n",
        "from scipy.stats import mannwhitneyu\n",
        "# Suponiendo que 'df' es tu DataFrame original\n",
        "df_mann = df[['stream_limpia', 'cat_streams', 'cat_dance', 'cat_valence', 'cat_energy', 'cat_acousticness', 'cat_instrumentalness', 'cat_liveness', 'cat_speechiness']].copy()\n",
        " #Convertir 'cat_liveness' a valores de cadena\n",
        "df_mann['cat_liveness'] = df_mann['cat_liveness'].astype(str)\n",
        "df_mann['stream_limpia']=df_mann['stream_limpia'].astype(\"float\")\n",
        "# Separa las muestras en \"alto stream\" y \"bajo stream\" según la columna 'categoria'\n",
        "alto_stream = df_mann[df_mann['cat_liveness'] == 'alto']['stream_limpia']\n",
        "bajo_stream = df_mann[df_mann['cat_liveness'] == 'bajo']['stream_limpia']\n",
        "# Realiza la prueba de Mann-Whitney\n",
        "resultado_mannwhitneyu = mannwhitneyu(alto_stream, bajo_stream)\n",
        "# Imprime el resultado\n",
        "print(\"Estadística de prueba U:\", resultado_mannwhitneyu.statistic)\n",
        "print(\"Valor p:\", resultado_mannwhitneyu.pvalue)\n",
        "# Interpretación del resultado\n",
        "if resultado_mannwhitneyu.pvalue < 0.05:\n",
        "    print(\"Hay evidencia estadística para rechazar la hipótesis nula. Las muestras son diferentes.\")\n",
        "else:\n",
        "    print(\"No hay suficiente evidencia estadística para rechazar la hipótesis nula. Las muestras son similares.\")"
      ],
      "metadata": {
        "colab": {
          "base_uri": "https://localhost:8080/"
        },
        "id": "kfxsMQvnV5tj",
        "outputId": "63252860-4292-48fc-80e1-4a0f50ec9e57"
      },
      "execution_count": null,
      "outputs": [
        {
          "output_type": "stream",
          "name": "stdout",
          "text": [
            "Estadística de prueba U: 81831.0\n",
            "Valor p: 0.2760050822734865\n",
            "No hay suficiente evidencia estadística para rechazar la hipótesis nula. Las muestras son similares.\n"
          ]
        }
      ]
    },
    {
      "cell_type": "code",
      "source": [
        "import pandas as pd\n",
        "from scipy.stats import mannwhitneyu\n",
        "# Suponiendo que 'df' es tu DataFrame original\n",
        "df_mann = df[['stream_limpia', 'cat_streams', 'cat_dance', 'cat_valence', 'cat_energy', 'cat_acousticness', 'cat_instrumentalness', 'cat_liveness', 'cat_speechiness']].copy()\n",
        " #Convertir 'cat_speechiness' a valores de cadena\n",
        "df_mann['cat_speechiness'] = df_mann['cat_speechiness'].astype(str)\n",
        "df_mann['stream_limpia']=df_mann['stream_limpia'].astype(\"float\")\n",
        "# Separa las muestras en \"alto stream\" y \"bajo stream\" según la columna 'categoria'\n",
        "alto_stream = df_mann[df_mann['cat_speechiness'] == 'alto']['stream_limpia']\n",
        "bajo_stream = df_mann[df_mann['cat_speechiness'] == 'bajo']['stream_limpia']\n",
        "# Realiza la prueba de Mann-Whitney\n",
        "resultado_mannwhitneyu = mannwhitneyu(alto_stream, bajo_stream)\n",
        "# Imprime el resultado\n",
        "print(\"Estadística de prueba U:\", resultado_mannwhitneyu.statistic)\n",
        "print(\"Valor p:\", resultado_mannwhitneyu.pvalue)\n",
        "# Interpretación del resultado\n",
        "if resultado_mannwhitneyu.pvalue < 0.05:\n",
        "    print(\"Hay evidencia estadística para rechazar la hipótesis nula. Las muestras son diferentes.\")\n",
        "else:\n",
        "    print(\"No hay suficiente evidencia estadística para rechazar la hipótesis nula. Las muestras son similares.\")"
      ],
      "metadata": {
        "colab": {
          "base_uri": "https://localhost:8080/"
        },
        "id": "bKJpMd11WBke",
        "outputId": "7387c39c-27c5-4c74-d27f-98d3fd2f99f2"
      },
      "execution_count": null,
      "outputs": [
        {
          "output_type": "stream",
          "name": "stdout",
          "text": [
            "Estadística de prueba U: 79206.0\n",
            "Valor p: 0.02381067793217145\n",
            "Hay evidencia estadística para rechazar la hipótesis nula. Las muestras son diferentes.\n"
          ]
        }
      ]
    },
    {
      "cell_type": "code",
      "source": [
        "import pandas as pd\n",
        "import numpy as np\n",
        "# Suponiendo que 'df' es tu DataFrame original\n",
        "df_resumen = df[['stream_limpia', 'cat_dance', 'cat_valence', 'cat_energy', 'cat_acousticness', 'cat_instrumentalness', 'cat_liveness', 'cat_speechiness']].copy()\n",
        "# Convertir 'cat_dance' a valores de cadena\n",
        "df_resumen['cat_dance'] = df_resumen['cat_dance'].astype(str)\n",
        "df_resumen['stream_limpia']=df_resumen['stream_limpia'].astype(\"float\")\n",
        "# Agrupar por 'cat_valence' y 'cat_dance'\n",
        "grupos_valence_dance = df_resumen.groupby(['cat_valence'])\n",
        "# Calcular el promedio, desviación estándar, máximo, mínimo y conteo de 'stream_limpia' para cada grupo\n",
        "promedio_stream = grupos_valence_dance['stream_limpia'].mean()\n",
        "std_stream = grupos_valence_dance['stream_limpia'].std()\n",
        "max_stream = grupos_valence_dance['stream_limpia'].max()\n",
        "min_stream = grupos_valence_dance['stream_limpia'].min()\n",
        "count_stream = grupos_valence_dance['stream_limpia'].count()\n",
        "# Crear un nuevo DataFrame con los resultados\n",
        "df_resumen1 = pd.DataFrame({\n",
        "    'Cat_Valence': promedio_stream.index.get_level_values('cat_valence'),\n",
        "    'Promedio_Stream': promedio_stream.values,\n",
        "    'Desviacion_Estandar_Stream': std_stream.values,\n",
        "    'Max_Stream': max_stream.values,\n",
        "    'Min_Stream': min_stream.values,\n",
        "    'Conteo_Stream': count_stream.values,\n",
        "    })\n",
        "df_resumen = df[['stream_limpia', 'cat_dance', 'cat_valence', 'cat_energy', 'cat_acousticness', 'cat_instrumentalness', 'cat_liveness', 'cat_speechiness']]\n",
        "# Agrupar por 'cat_valence' y 'cat_dance'\n",
        "grupos_cat_dace = df_resumen.groupby(['cat_dance'])\n",
        "# Convertir 'cat_dance' a valores de cadena\n",
        "df_resumen['cat_dance'] = df_resumen['cat_dance'].astype(str)\n",
        "df_resumen['stream_limpia']=df_resumen['stream_limpia'].astype(\"float\")\n",
        "# Agrupar por 'cat_valence' y 'cat_dance'\n",
        "grupos_valence_dance = df_resumen.groupby(['cat_dance'])\n",
        "# Calcular el promedio, desviación estándar, máximo, mínimo y conteo de 'stream_limpia' para cada grupo\n",
        "promedio_stream = grupos_valence_dance['stream_limpia'].mean()\n",
        "std_stream = grupos_valence_dance['stream_limpia'].std()\n",
        "max_stream = grupos_valence_dance['stream_limpia'].max()\n",
        "min_stream = grupos_valence_dance['stream_limpia'].min()\n",
        "count_stream = grupos_valence_dance['stream_limpia'].count()\n",
        "# Crear un nuevo DataFrame con los resultados\n",
        "df_resumen2 = pd.DataFrame({\n",
        "    'Cat_Dance': promedio_stream.index.get_level_values('cat_dance'),\n",
        "    'Promedio_Stream': promedio_stream.values,\n",
        "    'Desviacion_Estandar_Stream': std_stream.values,\n",
        "    'Max_Stream': max_stream.values,\n",
        "    'Min_Stream': min_stream.values,\n",
        "    'Conteo_Stream': count_stream.values,\n",
        "    })\n",
        "df_resumen = df[['stream_limpia', 'cat_dance', 'cat_valence', 'cat_energy', 'cat_acousticness', 'cat_instrumentalness', 'cat_liveness', 'cat_speechiness']]\n",
        "# Agrupar por 'cat_valence' y 'cat_dance'\n",
        "grupos_cat_energy = df_resumen.groupby(['cat_energy'])\n",
        "# Convertir 'cat_dance' a valores de cadena\n",
        "df_resumen['cat_energy'] = df_resumen['cat_energy'].astype(str)\n",
        "df_resumen['stream_limpia']=df_resumen['stream_limpia'].astype(\"float\")\n",
        "# Agrupar por 'cat_valence' y 'cat_dance'\n",
        "grupos_cat_valence = df_resumen.groupby(['cat_valence'])\n",
        "# Calcular el promedio, desviación estándar, máximo, mínimo y conteo de 'stream_limpia' para cada grupo\n",
        "promedio_stream = grupos_cat_energy['stream_limpia'].mean()\n",
        "std_stream = grupos_cat_energy['stream_limpia'].std()\n",
        "max_stream = grupos_cat_energy['stream_limpia'].max()\n",
        "min_stream = grupos_cat_energy['stream_limpia'].min()\n",
        "count_stream = grupos_cat_energy['stream_limpia'].count()\n",
        "# Crear un nuevo DataFrame con los resultados\n",
        "df_resumen3 = pd.DataFrame({\n",
        "    'cat_energy': promedio_stream.index.get_level_values('cat_energy'),\n",
        "    'Promedio_Stream': promedio_stream.values,\n",
        "    'Desviacion_Estandar_Stream': std_stream.values,\n",
        "    'Max_Stream': max_stream.values,\n",
        "    'Min_Stream': min_stream.values,\n",
        "    'Conteo_Stream': count_stream.values,\n",
        "    })\n",
        "df_resumen = df[['stream_limpia', 'cat_dance', 'cat_valence', 'cat_energy', 'cat_acousticness', 'cat_instrumentalness', 'cat_liveness', 'cat_speechiness']]\n",
        "# Agrupar por 'cat_valence' y 'cat_dance'\n",
        "grupos_cat_acousticness = df_resumen.groupby(['cat_acousticness'])\n",
        "# Convertir 'cat_dance' a valores de cadena\n",
        "df_resumen['cat_acousticness'] = df_resumen['cat_acousticness'].astype(str)\n",
        "df_resumen['stream_limpia']=df_resumen['stream_limpia'].astype(\"float\")\n",
        "# Agrupar por 'cat_valence' y 'cat_dance'\n",
        "grupos_cat_valence = df_resumen.groupby(['cat_valence'])\n",
        "# Calcular el promedio, desviación estándar, máximo, mínimo y conteo de 'stream_limpia' para cada grupo\n",
        "promedio_stream = grupos_cat_acousticness['stream_limpia'].mean()\n",
        "std_stream = grupos_cat_acousticness['stream_limpia'].std()\n",
        "max_stream = grupos_cat_acousticness['stream_limpia'].max()\n",
        "min_stream = grupos_cat_acousticness['stream_limpia'].min()\n",
        "count_stream = grupos_cat_acousticness['stream_limpia'].count()\n",
        "# Crear un nuevo DataFrame con los resultados\n",
        "df_resumen4 = pd.DataFrame({\n",
        "    'cat_acousticness': promedio_stream.index.get_level_values('cat_acousticness'),\n",
        "    'Promedio_Stream': promedio_stream.values,\n",
        "    'Desviacion_Estandar_Stream': std_stream.values,\n",
        "    'Max_Stream': max_stream.values,\n",
        "    'Min_Stream': min_stream.values,\n",
        "    'Conteo_Stream': count_stream.values,\n",
        "    })\n",
        "df_resumen = df[['stream_limpia', 'cat_dance', 'cat_valence', 'cat_energy', 'cat_acousticness', 'cat_instrumentalness', 'cat_liveness', 'cat_speechiness']]\n",
        "# Agrupar por 'cat_valence' y 'cat_dance'\n",
        "grupos_cat_acousticness = df_resumen.groupby(['cat_instrumentalness'])\n",
        "# Convertir 'cat_dance' a valores de cadena\n",
        "df_resumen['cat_instrumentalness'] = df_resumen['cat_instrumentalness'].astype(str)\n",
        "df_resumen['stream_limpia']=df_resumen['stream_limpia'].astype(\"float\")\n",
        "# Agrupar por 'cat_valence' y 'cat_dance'\n",
        "grupos_cat_instrumentalness = df_resumen.groupby(['cat_instrumentalness'])\n",
        "# Calcular el promedio, desviación estándar, máximo, mínimo y conteo de 'stream_limpia' para cada grupo\n",
        "promedio_stream = grupos_cat_instrumentalness['stream_limpia'].mean()\n",
        "std_stream = grupos_cat_instrumentalness['stream_limpia'].std()\n",
        "max_stream = grupos_cat_instrumentalness['stream_limpia'].max()\n",
        "min_stream = grupos_cat_instrumentalness['stream_limpia'].min()\n",
        "count_stream = grupos_cat_instrumentalness['stream_limpia'].count()\n",
        "# Crear un nuevo DataFrame con los resultados\n",
        "df_resumen5 = pd.DataFrame({\n",
        "    'cat_instrumentalness': promedio_stream.index.get_level_values('cat_instrumentalness'),\n",
        "    'Promedio_Stream': promedio_stream.values,\n",
        "    'Desviacion_Estandar_Stream': std_stream.values,\n",
        "    'Max_Stream': max_stream.values,\n",
        "    'Min_Stream': min_stream.values,\n",
        "    'Conteo_Stream': count_stream.values,\n",
        "    })\n",
        "df_resumen = df[['stream_limpia', 'cat_dance', 'cat_valence', 'cat_energy', 'cat_acousticness', 'cat_instrumentalness', 'cat_liveness', 'cat_speechiness']]\n",
        "# Agrupar por 'cat_valence' y 'cat_dance'\n",
        "grupos_cat_acousticness = df_resumen.groupby(['cat_liveness'])\n",
        "# Convertir 'cat_dance' a valores de cadena\n",
        "df_resumen['cat_liveness'] = df_resumen['cat_liveness'].astype(str)\n",
        "df_resumen['stream_limpia']=df_resumen['stream_limpia'].astype(\"float\")\n",
        "# Agrupar por 'cat_valence' y 'cat_dance'\n",
        "grupos_cat_liveness = df_resumen.groupby(['cat_liveness'])\n",
        "# Calcular el promedio, desviación estándar, máximo, mínimo y conteo de 'stream_limpia' para cada grupo\n",
        "promedio_stream = grupos_cat_liveness['stream_limpia'].mean()\n",
        "std_stream = grupos_cat_liveness['stream_limpia'].std()\n",
        "max_stream = grupos_cat_liveness['stream_limpia'].max()\n",
        "min_stream = grupos_cat_liveness['stream_limpia'].min()\n",
        "count_stream = grupos_cat_liveness['stream_limpia'].count()\n",
        "# Crear un nuevo DataFrame con los resultados\n",
        "df_resumen6 = pd.DataFrame({\n",
        "    'cat_liveness': promedio_stream.index.get_level_values('cat_liveness'),\n",
        "    'Promedio_Stream': promedio_stream.values,\n",
        "    'Desviacion_Estandar_Stream': std_stream.values,\n",
        "    'Max_Stream': max_stream.values,\n",
        "    'Min_Stream': min_stream.values,\n",
        "    'Conteo_Stream': count_stream.values,\n",
        "    })\n",
        "df_resumen = df[['stream_limpia', 'cat_dance', 'cat_valence', 'cat_energy', 'cat_acousticness', 'cat_instrumentalness', 'cat_liveness', 'cat_speechiness']]\n",
        "# Agrupar por 'cat_valence' y 'cat_dance'\n",
        "grupos_cat_acousticness = df_resumen.groupby(['cat_speechiness'])\n",
        "# Convertir 'cat_dance' a valores de cadena\n",
        "df_resumen['cat_speechiness'] = df_resumen['cat_speechiness'].astype(str)\n",
        "df_resumen['stream_limpia']=df_resumen['stream_limpia'].astype(\"float\")\n",
        "# Agrupar por 'cat_valence' y 'cat_dance'\n",
        "grupos_cat_speechiness = df_resumen.groupby(['cat_speechiness'])\n",
        "# Calcular el promedio, desviación estándar, máximo, mínimo y conteo de 'stream_limpia' para cada grupo\n",
        "promedio_stream = grupos_cat_speechiness['stream_limpia'].mean()\n",
        "std_stream = grupos_cat_speechiness['stream_limpia'].std()\n",
        "max_stream = grupos_cat_speechiness['stream_limpia'].max()\n",
        "min_stream = grupos_cat_speechiness['stream_limpia'].min()\n",
        "count_stream = grupos_cat_speechiness['stream_limpia'].count()\n",
        "# Crear un nuevo DataFrame con los resultados\n",
        "df_resumen7 = pd.DataFrame({\n",
        "    'cat_speechiness': promedio_stream.index.get_level_values('cat_speechiness'),\n",
        "    'Promedio_Stream': promedio_stream.values,\n",
        "    'Desviacion_Estandar_Stream': std_stream.values,\n",
        "    'Max_Stream': max_stream.values,\n",
        "    'Min_Stream': min_stream.values,\n",
        "    'Conteo_Stream': count_stream.values,\n",
        "    })\n",
        "# Unir las dos tablas\n",
        "df_final = pd.merge(df_resumen1, df_resumen2, how='outer')\n",
        "df_final = pd.merge(df_final, df_resumen3, how='outer')\n",
        "df_final = pd.merge(df_final, df_resumen4, how='outer')\n",
        "df_final = pd.merge(df_final, df_resumen5, how='outer')\n",
        "df_final = pd.merge(df_final, df_resumen6, how='outer')\n",
        "df_final = pd.merge(df_final, df_resumen7, how='outer')\n",
        "# Mostrar la tabla resumen\n",
        "print(df_final)"
      ],
      "metadata": {
        "colab": {
          "base_uri": "https://localhost:8080/"
        },
        "id": "poNMXPqxWdRa",
        "outputId": "c2fa652f-ffb9-489d-96eb-0e27580519a7"
      },
      "execution_count": null,
      "outputs": [
        {
          "output_type": "stream",
          "name": "stdout",
          "text": [
            "   Cat_Valence  Promedio_Stream  Desviacion_Estandar_Stream    Max_Stream  \\\n",
            "0         alto     4.657968e+08                5.339377e+08  3.562544e+09   \n",
            "1         bajo     5.310637e+08                5.807142e+08  3.703895e+09   \n",
            "2          NaN     4.234953e+08                4.849870e+08  3.562544e+09   \n",
            "3          NaN     5.480951e+08                5.946979e+08  3.703895e+09   \n",
            "4          NaN     5.001409e+08                5.695861e+08  3.703895e+09   \n",
            "5          NaN     5.192837e+08                5.698588e+08  3.562544e+09   \n",
            "6          NaN     5.373234e+08                6.304437e+08  3.562544e+09   \n",
            "7          NaN     5.065171e+08                5.474402e+08  3.703895e+09   \n",
            "8          NaN     4.457470e+08                4.194150e+08  2.282771e+09   \n",
            "9          NaN     5.211717e+08                5.820820e+08  3.703895e+09   \n",
            "10         NaN     4.980793e+08                5.572034e+08  2.713922e+09   \n",
            "11         NaN     5.201541e+08                5.741551e+08  3.703895e+09   \n",
            "12         NaN     4.243518e+08                4.677901e+08  2.594040e+09   \n",
            "13         NaN     5.477772e+08                5.998426e+08  3.703895e+09   \n",
            "\n",
            "    Min_Stream  Conteo_Stream Cat_Dance cat_energy cat_acousticness  \\\n",
            "0          0.0            241       NaN        NaN              NaN   \n",
            "1    1365184.0            701       NaN        NaN              NaN   \n",
            "2    1365184.0            255      alto        NaN              NaN   \n",
            "3          0.0            687      bajo        NaN              NaN   \n",
            "4   11599388.0            242       NaN       alto              NaN   \n",
            "5          0.0            700       NaN       bajo              NaN   \n",
            "6   16011326.0            240       NaN        NaN             alto   \n",
            "7          0.0            702       NaN        NaN             bajo   \n",
            "8   31959571.0             85       NaN        NaN              NaN   \n",
            "9          0.0            857       NaN        NaN              NaN   \n",
            "10   1365184.0            247       NaN        NaN              NaN   \n",
            "11         0.0            695       NaN        NaN              NaN   \n",
            "12  11956641.0            255       NaN        NaN              NaN   \n",
            "13         0.0            687       NaN        NaN              NaN   \n",
            "\n",
            "   cat_instrumentalness cat_liveness cat_speechiness  \n",
            "0                   NaN          NaN             NaN  \n",
            "1                   NaN          NaN             NaN  \n",
            "2                   NaN          NaN             NaN  \n",
            "3                   NaN          NaN             NaN  \n",
            "4                   NaN          NaN             NaN  \n",
            "5                   NaN          NaN             NaN  \n",
            "6                   NaN          NaN             NaN  \n",
            "7                   NaN          NaN             NaN  \n",
            "8                  alto          NaN             NaN  \n",
            "9                  bajo          NaN             NaN  \n",
            "10                  NaN         alto             NaN  \n",
            "11                  NaN         bajo             NaN  \n",
            "12                  NaN          NaN            alto  \n",
            "13                  NaN          NaN            bajo  \n"
          ]
        },
        {
          "output_type": "stream",
          "name": "stderr",
          "text": [
            "<ipython-input-12-7841e8f56157>:29: SettingWithCopyWarning: \n",
            "A value is trying to be set on a copy of a slice from a DataFrame.\n",
            "Try using .loc[row_indexer,col_indexer] = value instead\n",
            "\n",
            "See the caveats in the documentation: https://pandas.pydata.org/pandas-docs/stable/user_guide/indexing.html#returning-a-view-versus-a-copy\n",
            "  df_resumen['cat_dance'] = df_resumen['cat_dance'].astype(str)\n",
            "<ipython-input-12-7841e8f56157>:30: SettingWithCopyWarning: \n",
            "A value is trying to be set on a copy of a slice from a DataFrame.\n",
            "Try using .loc[row_indexer,col_indexer] = value instead\n",
            "\n",
            "See the caveats in the documentation: https://pandas.pydata.org/pandas-docs/stable/user_guide/indexing.html#returning-a-view-versus-a-copy\n",
            "  df_resumen['stream_limpia']=df_resumen['stream_limpia'].astype(\"float\")\n",
            "<ipython-input-12-7841e8f56157>:52: SettingWithCopyWarning: \n",
            "A value is trying to be set on a copy of a slice from a DataFrame.\n",
            "Try using .loc[row_indexer,col_indexer] = value instead\n",
            "\n",
            "See the caveats in the documentation: https://pandas.pydata.org/pandas-docs/stable/user_guide/indexing.html#returning-a-view-versus-a-copy\n",
            "  df_resumen['cat_energy'] = df_resumen['cat_energy'].astype(str)\n",
            "<ipython-input-12-7841e8f56157>:53: SettingWithCopyWarning: \n",
            "A value is trying to be set on a copy of a slice from a DataFrame.\n",
            "Try using .loc[row_indexer,col_indexer] = value instead\n",
            "\n",
            "See the caveats in the documentation: https://pandas.pydata.org/pandas-docs/stable/user_guide/indexing.html#returning-a-view-versus-a-copy\n",
            "  df_resumen['stream_limpia']=df_resumen['stream_limpia'].astype(\"float\")\n",
            "<ipython-input-12-7841e8f56157>:75: SettingWithCopyWarning: \n",
            "A value is trying to be set on a copy of a slice from a DataFrame.\n",
            "Try using .loc[row_indexer,col_indexer] = value instead\n",
            "\n",
            "See the caveats in the documentation: https://pandas.pydata.org/pandas-docs/stable/user_guide/indexing.html#returning-a-view-versus-a-copy\n",
            "  df_resumen['cat_acousticness'] = df_resumen['cat_acousticness'].astype(str)\n",
            "<ipython-input-12-7841e8f56157>:76: SettingWithCopyWarning: \n",
            "A value is trying to be set on a copy of a slice from a DataFrame.\n",
            "Try using .loc[row_indexer,col_indexer] = value instead\n",
            "\n",
            "See the caveats in the documentation: https://pandas.pydata.org/pandas-docs/stable/user_guide/indexing.html#returning-a-view-versus-a-copy\n",
            "  df_resumen['stream_limpia']=df_resumen['stream_limpia'].astype(\"float\")\n",
            "<ipython-input-12-7841e8f56157>:98: SettingWithCopyWarning: \n",
            "A value is trying to be set on a copy of a slice from a DataFrame.\n",
            "Try using .loc[row_indexer,col_indexer] = value instead\n",
            "\n",
            "See the caveats in the documentation: https://pandas.pydata.org/pandas-docs/stable/user_guide/indexing.html#returning-a-view-versus-a-copy\n",
            "  df_resumen['cat_instrumentalness'] = df_resumen['cat_instrumentalness'].astype(str)\n",
            "<ipython-input-12-7841e8f56157>:99: SettingWithCopyWarning: \n",
            "A value is trying to be set on a copy of a slice from a DataFrame.\n",
            "Try using .loc[row_indexer,col_indexer] = value instead\n",
            "\n",
            "See the caveats in the documentation: https://pandas.pydata.org/pandas-docs/stable/user_guide/indexing.html#returning-a-view-versus-a-copy\n",
            "  df_resumen['stream_limpia']=df_resumen['stream_limpia'].astype(\"float\")\n",
            "<ipython-input-12-7841e8f56157>:121: SettingWithCopyWarning: \n",
            "A value is trying to be set on a copy of a slice from a DataFrame.\n",
            "Try using .loc[row_indexer,col_indexer] = value instead\n",
            "\n",
            "See the caveats in the documentation: https://pandas.pydata.org/pandas-docs/stable/user_guide/indexing.html#returning-a-view-versus-a-copy\n",
            "  df_resumen['cat_liveness'] = df_resumen['cat_liveness'].astype(str)\n",
            "<ipython-input-12-7841e8f56157>:122: SettingWithCopyWarning: \n",
            "A value is trying to be set on a copy of a slice from a DataFrame.\n",
            "Try using .loc[row_indexer,col_indexer] = value instead\n",
            "\n",
            "See the caveats in the documentation: https://pandas.pydata.org/pandas-docs/stable/user_guide/indexing.html#returning-a-view-versus-a-copy\n",
            "  df_resumen['stream_limpia']=df_resumen['stream_limpia'].astype(\"float\")\n",
            "<ipython-input-12-7841e8f56157>:144: SettingWithCopyWarning: \n",
            "A value is trying to be set on a copy of a slice from a DataFrame.\n",
            "Try using .loc[row_indexer,col_indexer] = value instead\n",
            "\n",
            "See the caveats in the documentation: https://pandas.pydata.org/pandas-docs/stable/user_guide/indexing.html#returning-a-view-versus-a-copy\n",
            "  df_resumen['cat_speechiness'] = df_resumen['cat_speechiness'].astype(str)\n",
            "<ipython-input-12-7841e8f56157>:145: SettingWithCopyWarning: \n",
            "A value is trying to be set on a copy of a slice from a DataFrame.\n",
            "Try using .loc[row_indexer,col_indexer] = value instead\n",
            "\n",
            "See the caveats in the documentation: https://pandas.pydata.org/pandas-docs/stable/user_guide/indexing.html#returning-a-view-versus-a-copy\n",
            "  df_resumen['stream_limpia']=df_resumen['stream_limpia'].astype(\"float\")\n"
          ]
        }
      ]
    },
    {
      "cell_type": "code",
      "source": [
        "!pip install matplotlib numpy scikit-learn"
      ],
      "metadata": {
        "colab": {
          "base_uri": "https://localhost:8080/"
        },
        "id": "tmFe5I4dlQzV",
        "outputId": "dff0aabc-c3fd-4892-96b1-04c1dd64201c"
      },
      "execution_count": null,
      "outputs": [
        {
          "output_type": "stream",
          "name": "stdout",
          "text": [
            "Requirement already satisfied: matplotlib in /usr/local/lib/python3.10/dist-packages (3.7.1)\n",
            "Requirement already satisfied: numpy in /usr/local/lib/python3.10/dist-packages (1.23.5)\n",
            "Requirement already satisfied: scikit-learn in /usr/local/lib/python3.10/dist-packages (1.2.2)\n",
            "Requirement already satisfied: contourpy>=1.0.1 in /usr/local/lib/python3.10/dist-packages (from matplotlib) (1.2.0)\n",
            "Requirement already satisfied: cycler>=0.10 in /usr/local/lib/python3.10/dist-packages (from matplotlib) (0.12.1)\n",
            "Requirement already satisfied: fonttools>=4.22.0 in /usr/local/lib/python3.10/dist-packages (from matplotlib) (4.44.3)\n",
            "Requirement already satisfied: kiwisolver>=1.0.1 in /usr/local/lib/python3.10/dist-packages (from matplotlib) (1.4.5)\n",
            "Requirement already satisfied: packaging>=20.0 in /usr/local/lib/python3.10/dist-packages (from matplotlib) (23.2)\n",
            "Requirement already satisfied: pillow>=6.2.0 in /usr/local/lib/python3.10/dist-packages (from matplotlib) (9.4.0)\n",
            "Requirement already satisfied: pyparsing>=2.3.1 in /usr/local/lib/python3.10/dist-packages (from matplotlib) (3.1.1)\n",
            "Requirement already satisfied: python-dateutil>=2.7 in /usr/local/lib/python3.10/dist-packages (from matplotlib) (2.8.2)\n",
            "Requirement already satisfied: scipy>=1.3.2 in /usr/local/lib/python3.10/dist-packages (from scikit-learn) (1.11.3)\n",
            "Requirement already satisfied: joblib>=1.1.1 in /usr/local/lib/python3.10/dist-packages (from scikit-learn) (1.3.2)\n",
            "Requirement already satisfied: threadpoolctl>=2.0.0 in /usr/local/lib/python3.10/dist-packages (from scikit-learn) (3.2.0)\n",
            "Requirement already satisfied: six>=1.5 in /usr/local/lib/python3.10/dist-packages (from python-dateutil>=2.7->matplotlib) (1.16.0)\n"
          ]
        }
      ]
    },
    {
      "cell_type": "code",
      "source": [
        "# Importar bibliotecas necesarias\n",
        "import numpy as np\n",
        "import pandas as pd\n",
        "import matplotlib.pyplot as plt\n",
        "from sklearn.model_selection import train_test_split\n",
        "from sklearn.linear_model import LinearRegression\n",
        "from sklearn.metrics import mean_squared_error\n",
        "# Supongamos que df es tu DataFrame con los datos desde BigQuery\n",
        "# Puedes cargar los datos de BigQuery a un DataFrame así:\n",
        "# df = pd.read_gbq(\"SELECT * FROM tu_tabla\", project_id=\"tu_proyecto\")\n",
        "# Seleccionar las variables de interés\n",
        "df = df[['bpm', 'stream_limpia']]\n",
        "# Dividir los datos en conjuntos de entrenamiento y prueba\n",
        "X = df[['bpm']]\n",
        "y = df['stream_limpia']\n",
        "X_train, X_test, y_train, y_test = train_test_split(X, y, test_size=0.2, random_state=42)\n",
        "# Crear un modelo de regresión lineal\n",
        "model = LinearRegression()\n",
        "# Entrenar el modelo\n",
        "model.fit(X_train, y_train)\n",
        "# Hacer predicciones en el conjunto de prueba\n",
        "y_pred = model.predict(X_test)\n",
        "# Calcular el error cuadrático medio en el conjunto de prueba\n",
        "mse = mean_squared_error(y_test, y_pred)\n",
        "print(f\"Error Cuadrático Medio en el conjunto de prueba: {mse}\")\n",
        "# Visualizar los resultados\n",
        "plt.scatter(X_test, y_test, color='black')\n",
        "plt.plot(X_test, y_pred, color='blue', linewidth=3)\n",
        "plt.xlabel('bpm')\n",
        "plt.ylabel('stream_limpia')\n",
        "plt.title('Regresión Lineal: bpm vs stream_limpia')\n",
        "plt.show()"
      ],
      "metadata": {
        "colab": {
          "base_uri": "https://localhost:8080/",
          "height": 489
        },
        "id": "VnFyDNUc_xb_",
        "outputId": "54f6fc9f-82f3-4d0f-9e83-ae6127df624b"
      },
      "execution_count": null,
      "outputs": [
        {
          "output_type": "stream",
          "name": "stdout",
          "text": [
            "Error Cuadrático Medio en el conjunto de prueba: 3.8953300820852294e+17\n"
          ]
        },
        {
          "output_type": "display_data",
          "data": {
            "text/plain": [
              "<Figure size 640x480 with 1 Axes>"
            ],
            "image/png": "[encoded data removed]"
          },
          "metadata": {}
        }
      ]
    },
    {
      "cell_type": "code",
      "source": [
        "import numpy as np\n",
        "import pandas as pd\n",
        "import matplotlib.pyplot as plt\n",
        "from sklearn.model_selection import train_test_split\n",
        "from sklearn.linear_model import LinearRegression\n",
        "from sklearn.metrics import mean_squared_error\n",
        "\n",
        "# Supongamos que df es tu DataFrame con los datos\n",
        "# Seleccionar las variables de interés\n",
        "df =df[['in_spotify_charts', 'in_deezer_charts']]\n",
        "\n",
        "# Dividir los datos en conjuntos de entrenamiento y prueba\n",
        "X = df[['in_spotify_charts']]\n",
        "y = df['in_deezer_charts']\n",
        "X_train, X_test, y_train, y_test = train_test_split(X, y, test_size=0.2, random_state=42)\n",
        "\n",
        "# Crear un modelo de regresión lineal\n",
        "model = LinearRegression()\n",
        "\n",
        "# Entrenar el modelo\n",
        "model.fit(X_train, y_train)\n",
        "\n",
        "# Hacer predicciones en el conjunto de prueba\n",
        "y_pred = model.predict(X_test)\n",
        "\n",
        "# Calcular el error cuadrático medio en el conjunto de prueba\n",
        "mse = mean_squared_error(y_test, y_pred)\n",
        "print(f\"Error Cuadrático Medio en el conjunto de prueba: {mse}\")\n",
        "\n",
        "# Visualizar los resultados\n",
        "plt.scatter(X_test, y_test, color='black', label='Datos reales')\n",
        "plt.plot(X_test, y_pred, color='blue', linewidth=3, label='Regresión Lineal')\n",
        "plt.xlabel('in_spotify_charts')\n",
        "plt.ylabel('in_deezer_charts')\n",
        "plt.title('Regresión Lineal: in_spotify_charts vs in_deezer_charts')\n",
        "plt.legend()\n",
        "plt.show()\n",
        "\n"
      ],
      "metadata": {
        "colab": {
          "base_uri": "https://localhost:8080/",
          "height": 489
        },
        "id": "AY7sZOjeKMTM",
        "outputId": "065e4166-c244-4351-dc57-cf5930197658"
      },
      "execution_count": null,
      "outputs": [
        {
          "output_type": "stream",
          "name": "stdout",
          "text": [
            "Error Cuadrático Medio en el conjunto de prueba: 17.262167667460645\n"
          ]
        },
        {
          "output_type": "display_data",
          "data": {
            "text/plain": [
              "<Figure size 640x480 with 1 Axes>"
            ],
            "image/png": "[encoded data removed]"
          },
          "metadata": {}
        }
      ]
    },
    {
      "cell_type": "code",
      "source": [
        "import numpy as np\n",
        "import pandas as pd\n",
        "import matplotlib.pyplot as plt\n",
        "from sklearn.model_selection import train_test_split\n",
        "from sklearn.linear_model import LinearRegression\n",
        "from sklearn.metrics import mean_squared_error\n",
        "\n",
        "# Supongamos que df es tu DataFrame con los datos\n",
        "# Seleccionar las variables de interés\n",
        "df =df[['total_playlists', 'stream_limpia']]\n",
        "\n",
        "# Dividir los datos en conjuntos de entrenamiento y prueba\n",
        "X = df[['total_playlists']]\n",
        "y = df['stream_limpia']\n",
        "X_train, X_test, y_train, y_test = train_test_split(X, y, test_size=0.2, random_state=42)\n",
        "\n",
        "# Crear un modelo de regresión lineal\n",
        "model = LinearRegression()\n",
        "\n",
        "# Entrenar el modelo\n",
        "model.fit(X_train, y_train)\n",
        "\n",
        "# Hacer predicciones en el conjunto de prueba\n",
        "y_pred = model.predict(X_test)\n",
        "\n",
        "# Calcular el error cuadrático medio en el conjunto de prueba\n",
        "mse = mean_squared_error(y_test, y_pred)\n",
        "print(f\"Error Cuadrático Medio en el conjunto de prueba: {mse}\")\n",
        "\n",
        "# Visualizar los resultados\n",
        "plt.scatter(X_test, y_test, color='black', label='Datos reales')\n",
        "plt.plot(X_test, y_pred, color='blue', linewidth=3, label='Regresión Lineal')\n",
        "plt.xlabel('total_playlists')\n",
        "plt.ylabel('stream_limpia')\n",
        "plt.title('Regresión Lineal: total_playlists vs stream_limpia')\n",
        "plt.legend()\n",
        "plt.show()\n"
      ],
      "metadata": {
        "colab": {
          "base_uri": "https://localhost:8080/",
          "height": 489
        },
        "id": "7w4wiOIpQUAH",
        "outputId": "307db437-6cff-433a-b24d-21663a90f42b"
      },
      "execution_count": null,
      "outputs": [
        {
          "output_type": "stream",
          "name": "stdout",
          "text": [
            "Error Cuadrático Medio en el conjunto de prueba: 1.1396068628102856e+17\n"
          ]
        },
        {
          "output_type": "display_data",
          "data": {
            "text/plain": [
              "<Figure size 640x480 with 1 Axes>"
            ],
            "image/png": "[encoded data removed]"
          },
          "metadata": {}
        }
      ]
    }
  ]
}